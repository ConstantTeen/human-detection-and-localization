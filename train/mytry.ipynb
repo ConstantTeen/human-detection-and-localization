{
 "cells": [
  {
   "cell_type": "code",
   "execution_count": 10,
   "metadata": {},
   "outputs": [],
   "source": [
    "from sklearn                 import preprocessing\n",
    "from sklearn.model_selection import cross_val_score\n",
    "from sklearn.model_selection import KFold\n",
    "from sklearn.ensemble        import RandomForestRegressor\n",
    "from sklearn.linear_model    import LinearRegression\n",
    "from sklearn.linear_model    import LogisticRegression\n",
    "from sklearn                 import preprocessing\n",
    "from sklearn.metrics         import r2_score\n",
    "from pandas.core.frame       import DataFrame\n",
    "from sklearn.linear_model    import Lasso\n",
    "\n",
    "import numpy                 as np\n",
    "import matplotlib.pyplot     as plt\n",
    "import pandas\n"
   ]
  },
  {
   "cell_type": "code",
   "execution_count": 13,
   "metadata": {},
   "outputs": [
    {
     "data": {
      "text/html": [
       "<div>\n",
       "<style scoped>\n",
       "    .dataframe tbody tr th:only-of-type {\n",
       "        vertical-align: middle;\n",
       "    }\n",
       "\n",
       "    .dataframe tbody tr th {\n",
       "        vertical-align: top;\n",
       "    }\n",
       "\n",
       "    .dataframe thead th {\n",
       "        text-align: right;\n",
       "    }\n",
       "</style>\n",
       "<table border=\"1\" class=\"dataframe\">\n",
       "  <thead>\n",
       "    <tr style=\"text-align: right;\">\n",
       "      <th></th>\n",
       "      <th>face_x</th>\n",
       "      <th>face_y</th>\n",
       "      <th>face_width</th>\n",
       "      <th>face_height</th>\n",
       "      <th>face_cam_x</th>\n",
       "      <th>face_cam_y</th>\n",
       "      <th>face_cam_z</th>\n",
       "      <th>torso_x</th>\n",
       "      <th>torso_y</th>\n",
       "      <th>torso_width</th>\n",
       "      <th>...</th>\n",
       "      <th>torso_cam_y</th>\n",
       "      <th>torso_cam_z</th>\n",
       "      <th>person_x</th>\n",
       "      <th>person_y</th>\n",
       "      <th>person_width</th>\n",
       "      <th>person_height</th>\n",
       "      <th>person_cam_x</th>\n",
       "      <th>person_cam_y</th>\n",
       "      <th>person_cam_z</th>\n",
       "      <th>mean_cam_z</th>\n",
       "    </tr>\n",
       "  </thead>\n",
       "  <tbody>\n",
       "    <tr>\n",
       "      <th>0</th>\n",
       "      <td>570.0</td>\n",
       "      <td>156.0</td>\n",
       "      <td>59.0</td>\n",
       "      <td>46.0</td>\n",
       "      <td>3.222619</td>\n",
       "      <td>-0.699850</td>\n",
       "      <td>6.235</td>\n",
       "      <td>-1.0</td>\n",
       "      <td>-1.0</td>\n",
       "      <td>-1.0</td>\n",
       "      <td>...</td>\n",
       "      <td>NaN</td>\n",
       "      <td>NaN</td>\n",
       "      <td>494.0</td>\n",
       "      <td>136.0</td>\n",
       "      <td>342.0</td>\n",
       "      <td>144.0</td>\n",
       "      <td>3.890177</td>\n",
       "      <td>-0.371194</td>\n",
       "      <td>6.124</td>\n",
       "      <td>6.1795</td>\n",
       "    </tr>\n",
       "    <tr>\n",
       "      <th>1</th>\n",
       "      <td>-1.0</td>\n",
       "      <td>-1.0</td>\n",
       "      <td>-1.0</td>\n",
       "      <td>-1.0</td>\n",
       "      <td>NaN</td>\n",
       "      <td>NaN</td>\n",
       "      <td>NaN</td>\n",
       "      <td>-1.0</td>\n",
       "      <td>-1.0</td>\n",
       "      <td>-1.0</td>\n",
       "      <td>...</td>\n",
       "      <td>NaN</td>\n",
       "      <td>NaN</td>\n",
       "      <td>359.0</td>\n",
       "      <td>130.0</td>\n",
       "      <td>348.0</td>\n",
       "      <td>190.0</td>\n",
       "      <td>2.626809</td>\n",
       "      <td>-0.200039</td>\n",
       "      <td>6.592</td>\n",
       "      <td>6.5920</td>\n",
       "    </tr>\n",
       "    <tr>\n",
       "      <th>2</th>\n",
       "      <td>294.0</td>\n",
       "      <td>116.0</td>\n",
       "      <td>83.0</td>\n",
       "      <td>54.0</td>\n",
       "      <td>0.035208</td>\n",
       "      <td>-0.143189</td>\n",
       "      <td>0.812</td>\n",
       "      <td>-1.0</td>\n",
       "      <td>-1.0</td>\n",
       "      <td>-1.0</td>\n",
       "      <td>...</td>\n",
       "      <td>NaN</td>\n",
       "      <td>NaN</td>\n",
       "      <td>-1.0</td>\n",
       "      <td>-1.0</td>\n",
       "      <td>-1.0</td>\n",
       "      <td>-1.0</td>\n",
       "      <td>NaN</td>\n",
       "      <td>NaN</td>\n",
       "      <td>NaN</td>\n",
       "      <td>0.8120</td>\n",
       "    </tr>\n",
       "    <tr>\n",
       "      <th>3</th>\n",
       "      <td>264.0</td>\n",
       "      <td>68.0</td>\n",
       "      <td>111.0</td>\n",
       "      <td>76.0</td>\n",
       "      <td>0.077445</td>\n",
       "      <td>-1.279389</td>\n",
       "      <td>5.282</td>\n",
       "      <td>166.0</td>\n",
       "      <td>143.0</td>\n",
       "      <td>333.0</td>\n",
       "      <td>...</td>\n",
       "      <td>0.319593</td>\n",
       "      <td>8.995</td>\n",
       "      <td>-1.0</td>\n",
       "      <td>-1.0</td>\n",
       "      <td>-1.0</td>\n",
       "      <td>-1.0</td>\n",
       "      <td>NaN</td>\n",
       "      <td>NaN</td>\n",
       "      <td>NaN</td>\n",
       "      <td>7.1385</td>\n",
       "    </tr>\n",
       "    <tr>\n",
       "      <th>4</th>\n",
       "      <td>519.0</td>\n",
       "      <td>11.0</td>\n",
       "      <td>156.0</td>\n",
       "      <td>116.0</td>\n",
       "      <td>2.151638</td>\n",
       "      <td>-1.291524</td>\n",
       "      <td>4.192</td>\n",
       "      <td>308.0</td>\n",
       "      <td>107.0</td>\n",
       "      <td>371.0</td>\n",
       "      <td>...</td>\n",
       "      <td>0.264356</td>\n",
       "      <td>6.468</td>\n",
       "      <td>-1.0</td>\n",
       "      <td>-1.0</td>\n",
       "      <td>-1.0</td>\n",
       "      <td>-1.0</td>\n",
       "      <td>NaN</td>\n",
       "      <td>NaN</td>\n",
       "      <td>NaN</td>\n",
       "      <td>5.3300</td>\n",
       "    </tr>\n",
       "  </tbody>\n",
       "</table>\n",
       "<p>5 rows × 22 columns</p>\n",
       "</div>"
      ],
      "text/plain": [
       "   face_x  face_y  face_width  face_height  face_cam_x  face_cam_y  \\\n",
       "0   570.0   156.0        59.0         46.0    3.222619   -0.699850   \n",
       "1    -1.0    -1.0        -1.0         -1.0         NaN         NaN   \n",
       "2   294.0   116.0        83.0         54.0    0.035208   -0.143189   \n",
       "3   264.0    68.0       111.0         76.0    0.077445   -1.279389   \n",
       "4   519.0    11.0       156.0        116.0    2.151638   -1.291524   \n",
       "\n",
       "   face_cam_z  torso_x  torso_y  torso_width  ...  torso_cam_y  torso_cam_z  \\\n",
       "0       6.235     -1.0     -1.0         -1.0  ...          NaN          NaN   \n",
       "1         NaN     -1.0     -1.0         -1.0  ...          NaN          NaN   \n",
       "2       0.812     -1.0     -1.0         -1.0  ...          NaN          NaN   \n",
       "3       5.282    166.0    143.0        333.0  ...     0.319593        8.995   \n",
       "4       4.192    308.0    107.0        371.0  ...     0.264356        6.468   \n",
       "\n",
       "   person_x  person_y  person_width  person_height  person_cam_x  \\\n",
       "0     494.0     136.0         342.0          144.0      3.890177   \n",
       "1     359.0     130.0         348.0          190.0      2.626809   \n",
       "2      -1.0      -1.0          -1.0           -1.0           NaN   \n",
       "3      -1.0      -1.0          -1.0           -1.0           NaN   \n",
       "4      -1.0      -1.0          -1.0           -1.0           NaN   \n",
       "\n",
       "   person_cam_y  person_cam_z  mean_cam_z  \n",
       "0     -0.371194         6.124      6.1795  \n",
       "1     -0.200039         6.592      6.5920  \n",
       "2           NaN           NaN      0.8120  \n",
       "3           NaN           NaN      7.1385  \n",
       "4           NaN           NaN      5.3300  \n",
       "\n",
       "[5 rows x 22 columns]"
      ]
     },
     "execution_count": 13,
     "metadata": {},
     "output_type": "execute_result"
    }
   ],
   "source": [
    "import pandas\n",
    "\n",
    "columns = ['face_x', 'face_y','face_width','face_height','face_cam_x', 'face_cam_y','face_cam_z',\n",
    "          'torso_x','torso_y','torso_width','torso_height','torso_cam_x','torso_cam_y','torso_cam_z',\n",
    "          'person_x','person_y','person_width','person_height','person_cam_x','person_cam_y','person_cam_z',\n",
    "        'mean_cam_z']\n",
    "df = pandas.read_csv('data.csv')\n",
    "df_test = pandas.read_csv('test_data.csv')\n",
    "#df = pandas.DataFrame(data.values, columns=columns)\n",
    "\n",
    "df.head()"
   ]
  },
  {
   "cell_type": "code",
   "execution_count": 32,
   "metadata": {},
   "outputs": [
    {
     "name": "stdout",
     "output_type": "stream",
     "text": [
      "((265, 4), (265,))\n",
      "((209, 4), (209,))\n",
      "((207, 4), (207,))\n",
      "((15, 4), (15,))\n",
      "((1, 4), (1,))\n",
      "((0, 4), (0,))\n"
     ]
    }
   ],
   "source": [
    "import numpy as np\n",
    "\n",
    "# preparing data\n",
    "face_X = df[['face_x',  'face_y', 'face_width', 'face_height']].values\n",
    "torso_X = df[['torso_x',  'torso_y',  'torso_width',  'torso_height']].values\n",
    "person_X = df[['person_x', 'person_y', 'person_width', 'person_height']].values\n",
    "\n",
    "face_X_test = df_test[['face_x',  'face_y', 'face_width', 'face_height']].values\n",
    "torso_X_test = df_test[['torso_x',  'torso_y',  'torso_width',  'torso_height']].values\n",
    "person_X_test = df_test[['person_x', 'person_y', 'person_width', 'person_height']].values\n",
    "\n",
    "face_y_test = df_test['face_cam_z'].values\n",
    "torso_y_test = df_test['torso_cam_z'].values\n",
    "person_y_test = df_test['person_cam_z'].values\n",
    "\n",
    "X = [face_X, torso_X, person_X]\n",
    "Y = [face_y, torso_y, person_y]\n",
    "\n",
    "X_test = [face_X_test, torso_X_test, person_X_test]\n",
    "Y_test = [face_y_test, torso_y_test, person_y_test]\n",
    "\n",
    "for i, (x, y) in enumerate(zip(X, Y)):\n",
    "    keep = ~np.isnan(y)    \n",
    "    X[i] = x[keep,:]\n",
    "    Y[i] = y[keep]\n",
    "    print(X[i].shape, Y[i].shape)\n",
    "    \n",
    "for i, (x, y) in enumerate(zip(X_test, Y_test)):\n",
    "    keep = ~np.isnan(y)    \n",
    "    X_test[i] = x[keep,:]\n",
    "    Y_test[i] = y[keep]\n",
    "    print(X_test[i].shape, Y_test[i].shape)\n"
   ]
  },
  {
   "cell_type": "code",
   "execution_count": 17,
   "metadata": {},
   "outputs": [
    {
     "name": "stdout",
     "output_type": "stream",
     "text": [
      "(265,)\n",
      "(209,)\n",
      "(207,)\n"
     ]
    },
    {
     "data": {
      "image/png": "[encoded data removed]",
      "text/plain": [
       "<Figure size 432x288 with 1 Axes>"
      ]
     },
     "metadata": {
      "needs_background": "light"
     },
     "output_type": "display_data"
    }
   ],
   "source": [
    "import matplotlib.pyplot as plt\n",
    "\n",
    "# remove long data\n",
    "for i, (x, y) in enumerate(zip(X, Y)):\n",
    "    print(y.shape)\n",
    "    short_data = y < 3.\n",
    "    Y[i] = y[short_data]\n",
    "    X[i] = x[short_data, :]    \n",
    "    #print(y.shape)\n",
    "\n",
    "for i in range(3):\n",
    "    plt.plot(X[i][:,3],Y[i],'.')\n",
    "plt.show()"
   ]
  },
  {
   "cell_type": "code",
   "execution_count": 4,
   "metadata": {},
   "outputs": [],
   "source": [
    "from sklearn.model_selection import cross_val_score\n",
    "\n",
    "# Best possible score is 1.0 and it can be negative \n",
    "# (because the model can be arbitrarily worse). \n",
    "# A constant model that always predicts the expected value of y, \n",
    "# disregarding the input features, would get a R^2 score of 0.0.\n",
    "\n",
    "def get_scores(X, y, cv, estimator, scoring='r2'):\n",
    "\n",
    "    return cross_val_score(estimator=estimator, \n",
    "                        X=X, \n",
    "                        y=y, \n",
    "                        cv=cv,\n",
    "                        scoring=scoring)"
   ]
  },
  {
   "cell_type": "code",
   "execution_count": 5,
   "metadata": {},
   "outputs": [
    {
     "name": "stdout",
     "output_type": "stream",
     "text": [
      "('Face: ', 0.7097672468533921)\n",
      "('Torso: ', 0.5318028492634292)\n",
      "('Person: ', 0.43077002827834826)\n"
     ]
    }
   ],
   "source": [
    "#  random forest Regressor\n",
    "from sklearn.model_selection import KFold\n",
    "from sklearn.ensemble import RandomForestRegressor\n",
    "\n",
    "kf = KFold(n_splits=10, shuffle=True)\n",
    "\n",
    "face_scores_rfr   = get_scores(X[0][:,2:], Y[0], kf, RandomForestRegressor(n_estimators=100) )\n",
    "torso_scores_rfr  = get_scores(X[1][:,2:], Y[1], kf, RandomForestRegressor(n_estimators=100) )\n",
    "person_scores_rfr = get_scores(X[2][:,2:], Y[2], kf, RandomForestRegressor(n_estimators=100) )\n",
    "\n",
    "print('Face: ',   np.mean(face_scores_rfr))\n",
    "print('Torso: ',  np.mean(torso_scores_rfr))\n",
    "print('Person: ', np.mean(person_scores_rfr))"
   ]
  },
  {
   "cell_type": "code",
   "execution_count": 36,
   "metadata": {},
   "outputs": [
    {
     "data": {
      "text/plain": [
       "-3.13458637028625"
      ]
     },
     "execution_count": 36,
     "metadata": {},
     "output_type": "execute_result"
    }
   ],
   "source": [
    "rgr = RandomForestRegressor(n_estimators=100)\n",
    "rgr.fit(X[0][:,2:], Y[0])\n",
    "y_pred = rgr.predict(X_test[0][:,2:])\n",
    "y_true = Y_test[0]\n",
    "r2_score(y_pred=y_pred,y_true=y_true)"
   ]
  },
  {
   "cell_type": "code",
   "execution_count": 41,
   "metadata": {},
   "outputs": [
    {
     "data": {
      "text/plain": [
       "array([0.672, 1.342, 1.649, 1.272, 0.653, 1.69 , 1.177, 1.169, 1.142,\n",
       "       1.673, 0.625, 0.675, 0.65 , 1.732, 1.768])"
      ]
     },
     "execution_count": 41,
     "metadata": {},
     "output_type": "execute_result"
    }
   ],
   "source": [
    "Y_test[0]"
   ]
  },
  {
   "cell_type": "code",
   "execution_count": 6,
   "metadata": {},
   "outputs": [
    {
     "name": "stderr",
     "output_type": "stream",
     "text": [
      "/home/konstantin/.local/lib/python2.7/site-packages/sklearn/linear_model/logistic.py:460: FutureWarning: Default multi_class will be changed to 'auto' in 0.22. Specify the multi_class option to silence this warning.\n",
      "  \"this warning.\", FutureWarning)\n"
     ]
    },
    {
     "name": "stdout",
     "output_type": "stream",
     "text": [
      "('Face: ', 0.42757069107828405)\n",
      "('Torso: ', 0.22724674029009323)\n",
      "('Person: ', 0.20967597506888952)\n"
     ]
    }
   ],
   "source": [
    "# logistic regression\n",
    "from sklearn.linear_model import LogisticRegression\n",
    "from sklearn import preprocessing\n",
    "\n",
    "lr = LogisticRegression(C = 500, solver = 'lbfgs', penalty='l2', max_iter = 1000)\n",
    "\n",
    "face_scores_lr   = get_scores(preprocessing.scale(X[0][:,2:]), np.round(1000*Y[0]), kf, lr)\n",
    "torso_scores_lr  = get_scores(preprocessing.scale(X[1][:,2:]), np.round(1000*Y[1]), kf, lr)\n",
    "person_scores_lr = get_scores(preprocessing.scale(X[2][:,2:]), np.round(1000*Y[2]), kf, lr)\n",
    "\n",
    "print('Face: ',   np.mean(face_scores_lr))\n",
    "print('Torso: ',  np.mean(torso_scores_lr))\n",
    "print('Person: ', np.mean(person_scores_lr))"
   ]
  },
  {
   "cell_type": "code",
   "execution_count": 37,
   "metadata": {},
   "outputs": [
    {
     "data": {
      "text/plain": [
       "-91.8185273716835"
      ]
     },
     "execution_count": 37,
     "metadata": {},
     "output_type": "execute_result"
    }
   ],
   "source": [
    "rgr = LogisticRegression(C = 500, solver = 'lbfgs', penalty='l2', max_iter = 1000)\n",
    "rgr.fit(preprocessing.scale(X[0][:,2:]), np.round(1000*Y[0]))\n",
    "y_pred = rgr.predict(preprocessing.scale(X_test[0][:,2:]))\n",
    "y_true = np.round(1000*Y_test[0])\n",
    "r2_score(y_pred=y_pred,y_true=y_true)"
   ]
  },
  {
   "cell_type": "code",
   "execution_count": 7,
   "metadata": {},
   "outputs": [
    {
     "name": "stdout",
     "output_type": "stream",
     "text": [
      "('Face: ', 0.594539349275242)\n",
      "('Torso: ', 0.28556010952791244)\n",
      "('Person: ', 0.43307408604166164)\n"
     ]
    }
   ],
   "source": [
    "# logistic regression2\n",
    "from sklearn.linear_model import LogisticRegression\n",
    "from sklearn import preprocessing\n",
    "\n",
    "lr = LogisticRegression(C = 1000, solver = 'lbfgs', penalty='l2', max_iter = 1000)\n",
    "\n",
    "face_scores_lr   = get_scores(X[0][:,2:] / np.array([620, 480]), np.round(10*Y[0]), kf, lr)\n",
    "torso_scores_lr  = get_scores(X[1][:,2:] / np.array([620, 480]), np.round(10*Y[1]), kf, lr)\n",
    "person_scores_lr = get_scores(X[2][:,2:] / np.array([620, 480]), np.round(10*Y[2]), kf, lr)\n",
    "\n",
    "print('Face: ',   np.mean(face_scores_lr))\n",
    "print('Torso: ',  np.mean(torso_scores_lr))\n",
    "print('Person: ', np.mean(person_scores_lr))"
   ]
  },
  {
   "cell_type": "code",
   "execution_count": 38,
   "metadata": {},
   "outputs": [
    {
     "data": {
      "text/plain": [
       "-0.6104959075589793"
      ]
     },
     "execution_count": 38,
     "metadata": {},
     "output_type": "execute_result"
    }
   ],
   "source": [
    "rgr = LogisticRegression(C = 1000, solver = 'lbfgs', penalty='l2', max_iter = 1000)\n",
    "rgr.fit(X[0][:,2:] / np.array([620, 480]), np.round(10*Y[0]))\n",
    "y_pred = rgr.predict(X_test[0][:,2:]/ np.array([620, 480]))\n",
    "y_true = np.round(10*Y_test[0])\n",
    "r2_score(y_pred=y_pred,y_true=y_true)"
   ]
  },
  {
   "cell_type": "code",
   "execution_count": 8,
   "metadata": {},
   "outputs": [
    {
     "name": "stdout",
     "output_type": "stream",
     "text": [
      "('Face: ', 0.6294095367923629)\n",
      "('Torso: ', 0.33263683215660833)\n",
      "('Person: ', 0.46741062123792515)\n"
     ]
    }
   ],
   "source": [
    "# simple neuronet\n",
    "from sklearn.neural_network import MLPRegressor\n",
    "\n",
    "nn = MLPRegressor(hidden_layer_sizes=(100, 100, 100),tol=1e-2, max_iter=1000)\n",
    "kf = KFold(n_splits=2, shuffle=True)\n",
    "\n",
    "face_scores_nn   = get_scores(preprocessing.scale(X[0][:,2:]), Y[0], kf, nn)\n",
    "torso_scores_nn  = get_scores(preprocessing.scale(X[1][:,2:]), Y[1], kf, nn)\n",
    "person_scores_nn = get_scores(preprocessing.scale(X[2][:,2:]), Y[2], kf, nn)\n",
    "\n",
    "print('Face: ',   np.mean(face_scores_nn))\n",
    "print('Torso: ',  np.mean(torso_scores_nn))\n",
    "print('Person: ', np.mean(person_scores_nn))"
   ]
  },
  {
   "cell_type": "code",
   "execution_count": 39,
   "metadata": {},
   "outputs": [
    {
     "data": {
      "text/plain": [
       "-12.825600644200838"
      ]
     },
     "execution_count": 39,
     "metadata": {},
     "output_type": "execute_result"
    }
   ],
   "source": [
    "rgr = MLPRegressor(hidden_layer_sizes=(100, 100, 100),tol=1e-2, max_iter=1000)\n",
    "rgr.fit(preprocessing.scale(X[0][:,2:]), Y[0])\n",
    "y_pred = rgr.predict(preprocessing.scale(X_test[0][:,2:]))\n",
    "y_true = Y_test[0]\n",
    "r2_score(y_pred=y_pred,y_true=y_true)"
   ]
  },
  {
   "cell_type": "code",
   "execution_count": null,
   "metadata": {},
   "outputs": [],
   "source": []
  },
  {
   "cell_type": "code",
   "execution_count": null,
   "metadata": {},
   "outputs": [],
   "source": []
  },
  {
   "cell_type": "code",
   "execution_count": null,
   "metadata": {},
   "outputs": [],
   "source": []
  }
 ],
 "metadata": {
  "kernelspec": {
   "display_name": "Python 3",
   "language": "python",
   "name": "python3"
  },
  "language_info": {
   "codemirror_mode": {
    "name": "ipython",
    "version": 2
   },
   "file_extension": ".py",
   "mimetype": "text/x-python",
   "name": "python",
   "nbconvert_exporter": "python",
   "pygments_lexer": "ipython2",
   "version": "2.7.12"
  }
 },
 "nbformat": 4,
 "nbformat_minor": 2
}
